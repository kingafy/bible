{
  "nbformat": 4,
  "nbformat_minor": 0,
  "metadata": {
    "colab": {
      "name": "1- How to use Light Pipelines.ipynb",
      "provenance": [],
      "collapsed_sections": [],
      "toc_visible": true
    },
    "kernelspec": {
      "display_name": "Python 3",
      "language": "python",
      "name": "python3"
    },
    "language_info": {
      "codemirror_mode": {
        "name": "ipython",
        "version": 3
      },
      "file_extension": ".py",
      "mimetype": "text/x-python",
      "name": "python",
      "nbconvert_exporter": "python",
      "pygments_lexer": "ipython3",
      "version": "3.7.4"
    }
  },
  "cells": [
    {
      "cell_type": "markdown",
      "metadata": {
        "colab_type": "text",
        "id": "7p69LnaldJa_"
      },
      "source": [
        "![JohnSnowLabs](https://nlp.johnsnowlabs.com/assets/images/logo.png)"
      ]
    },
    {
      "cell_type": "markdown",
      "metadata": {
        "colab_type": "text",
        "id": "83aGge0ndJbB"
      },
      "source": [
        "# Use pretrained `explain_document` Pipeline"
      ]
    },
    {
      "cell_type": "code",
      "metadata": {
        "colab_type": "code",
        "id": "pVycMjc1dLIe",
        "colab": {}
      },
      "source": [
        "import os\n",
        "\n",
        "# Install java\n",
        "! apt-get install -y openjdk-8-jdk-headless -qq > /dev/null\n",
        "os.environ[\"JAVA_HOME\"] = \"/usr/lib/jvm/java-8-openjdk-amd64\"\n",
        "os.environ[\"PATH\"] = os.environ[\"JAVA_HOME\"] + \"/bin:\" + os.environ[\"PATH\"]\n",
        "! java -version\n",
        "\n",
        "# Install pyspark\n",
        "! pip install --ignore-installed pyspark==2.4.4\n",
        "\n",
        "# Install Spark NLP\n",
        "! pip install --ignore-installed spark-nlp==2.5.1"
      ],
      "execution_count": null,
      "outputs": []
    },
    {
      "cell_type": "markdown",
      "metadata": {
        "colab_type": "text",
        "id": "mOeiIKN1dJbC"
      },
      "source": [
        "### Stages\n",
        "\n",
        " * DocumentAssembler\n",
        " * SentenceDetector\n",
        " * Tokenizer\n",
        " * Lemmatizer\n",
        " * Stemmer\n",
        " * Part of Speech\n",
        " * SpellChecker (Norvig)"
      ]
    },
    {
      "cell_type": "code",
      "metadata": {
        "colab_type": "code",
        "id": "JwzCcMrkdJbE",
        "colab": {}
      },
      "source": [
        "import sys\n",
        "import time\n",
        "\n",
        "#Spark ML and SQL\n",
        "from pyspark.ml import Pipeline, PipelineModel\n",
        "from pyspark.sql.functions import array_contains\n",
        "from pyspark.sql import SparkSession\n",
        "from pyspark.sql.types import StructType, StructField, IntegerType, StringType\n",
        "#Spark NLP\n",
        "import sparknlp\n",
        "from sparknlp.pretrained import PretrainedPipeline\n",
        "from sparknlp.annotator import *\n",
        "from sparknlp.common import RegexRule\n",
        "from sparknlp.base import DocumentAssembler, Finisher"
      ],
      "execution_count": null,
      "outputs": []
    },
    {
      "cell_type": "markdown",
      "metadata": {
        "colab_type": "text",
        "id": "cV-HCwyqdJbI"
      },
      "source": [
        "### Let's create a Spark Session for our app"
      ]
    },
    {
      "cell_type": "code",
      "metadata": {
        "colab_type": "code",
        "id": "GxPGe1DEdJbK",
        "colab": {
          "base_uri": "https://localhost:8080/",
          "height": 85
        },
        "outputId": "64e807df-416c-408e-d21e-f907ccfebac1"
      },
      "source": [
        "spark = sparknlp.start()\n",
        "\n",
        "print(\"Spark NLP version: \", sparknlp.version())\n",
        "print(\"Apache Spark version: \", spark.version)"
      ],
      "execution_count": null,
      "outputs": [
        {
          "output_type": "stream",
          "text": [
            "Spark NLP version:  2.4.0\n",
            "Apache Spark version:  2.4.4\n"
          ],
          "name": "stdout"
        }
      ]
    },
    {
      "cell_type": "markdown",
      "metadata": {
        "colab_type": "text",
        "id": "J3zO5qw3dJbO"
      },
      "source": [
        "#### This is our testing document, we'll use it to exemplify all different pipeline stages."
      ]
    },
    {
      "cell_type": "code",
      "metadata": {
        "colab_type": "code",
        "id": "V6VlR5wWdJbP",
        "colab": {}
      },
      "source": [
        "testDoc = [\n",
        "\"French author who helped pioner the science-fiction genre. \\\n",
        "Verne wrate about space, air, and underwater travel before \\\n",
        "navigable aircrast and practical submarines were invented, \\\n",
        "and before any means of space travel had been devised. \"\n",
        "]"
      ],
      "execution_count": null,
      "outputs": []
    },
    {
      "cell_type": "code",
      "metadata": {
        "colab_type": "code",
        "id": "bMWRxstQdJbR",
        "colab": {
          "base_uri": "https://localhost:8080/",
          "height": 68
        },
        "outputId": "924b895d-553f-49fa-dc8c-a63a7160fe01"
      },
      "source": [
        "pipeline = PretrainedPipeline('explain_document_ml', lang='en')"
      ],
      "execution_count": null,
      "outputs": [
        {
          "output_type": "stream",
          "text": [
            "explain_document_ml download started this may take some time.\n",
            "Approx size to download 9.4 MB\n",
            "[OK!]\n"
          ],
          "name": "stdout"
        }
      ]
    },
    {
      "cell_type": "markdown",
      "metadata": {
        "colab_type": "text",
        "id": "OUE9Pnw_dJbU"
      },
      "source": [
        "#### We are not interested in handling big datasets, let's switch to LightPipelines for speed."
      ]
    },
    {
      "cell_type": "code",
      "metadata": {
        "colab_type": "code",
        "id": "6atL1g_UdJbV",
        "colab": {}
      },
      "source": [
        "result = pipeline.annotate(testDoc)"
      ],
      "execution_count": null,
      "outputs": []
    },
    {
      "cell_type": "markdown",
      "metadata": {
        "colab_type": "text",
        "id": "3WLmPeANdJbX"
      },
      "source": [
        "#### Let's analyze these results - first let's see what sentences we detected"
      ]
    },
    {
      "cell_type": "code",
      "metadata": {
        "colab_type": "code",
        "id": "GBQLpz4EdJbY",
        "colab": {
          "base_uri": "https://localhost:8080/",
          "height": 71
        },
        "outputId": "b0ba2294-b65d-4aa4-c1d0-c3c3a51e89b1"
      },
      "source": [
        "[content['sentence'] for content in result]"
      ],
      "execution_count": null,
      "outputs": [
        {
          "output_type": "execute_result",
          "data": {
            "text/plain": [
              "[['French author who helped pioner the science-fiction genre.',\n",
              "  'Verne wrate about space, air, and underwater travel before navigable aircrast and practical submarines were invented, and before any means of space travel had been devised.']]"
            ]
          },
          "metadata": {
            "tags": []
          },
          "execution_count": 6
        }
      ]
    },
    {
      "cell_type": "markdown",
      "metadata": {
        "colab_type": "text",
        "id": "89vjlh-CdJbb"
      },
      "source": [
        "#### Now let's see how those sentences were tokenized"
      ]
    },
    {
      "cell_type": "code",
      "metadata": {
        "colab_type": "code",
        "id": "G1PAPYxidJbb",
        "colab": {
          "base_uri": "https://localhost:8080/",
          "height": 680
        },
        "outputId": "c5e74e3f-0307-49b7-f074-2aefbae11c82"
      },
      "source": [
        "[content['token'] for content in result] "
      ],
      "execution_count": null,
      "outputs": [
        {
          "output_type": "execute_result",
          "data": {
            "text/plain": [
              "[['French',\n",
              "  'author',\n",
              "  'who',\n",
              "  'helped',\n",
              "  'pioner',\n",
              "  'the',\n",
              "  'science-fiction',\n",
              "  'genre',\n",
              "  '.',\n",
              "  'Verne',\n",
              "  'wrate',\n",
              "  'about',\n",
              "  'space',\n",
              "  ',',\n",
              "  'air',\n",
              "  ',',\n",
              "  'and',\n",
              "  'underwater',\n",
              "  'travel',\n",
              "  'before',\n",
              "  'navigable',\n",
              "  'aircrast',\n",
              "  'and',\n",
              "  'practical',\n",
              "  'submarines',\n",
              "  'were',\n",
              "  'invented',\n",
              "  ',',\n",
              "  'and',\n",
              "  'before',\n",
              "  'any',\n",
              "  'means',\n",
              "  'of',\n",
              "  'space',\n",
              "  'travel',\n",
              "  'had',\n",
              "  'been',\n",
              "  'devised',\n",
              "  '.']]"
            ]
          },
          "metadata": {
            "tags": []
          },
          "execution_count": 8
        }
      ]
    },
    {
      "cell_type": "markdown",
      "metadata": {
        "colab_type": "text",
        "id": "Etpy_GS6dJbe"
      },
      "source": [
        "#### Notice some spelling errors? the pipeline takes care of that as well"
      ]
    },
    {
      "cell_type": "code",
      "metadata": {
        "colab_type": "code",
        "id": "hh9aebz8dJbf",
        "colab": {
          "base_uri": "https://localhost:8080/",
          "height": 680
        },
        "outputId": "f7c5850f-04c8-4beb-94df-d25c684fdd01"
      },
      "source": [
        "[content['spell'] for content in result]"
      ],
      "execution_count": null,
      "outputs": [
        {
          "output_type": "execute_result",
          "data": {
            "text/plain": [
              "[['French',\n",
              "  'author',\n",
              "  'who',\n",
              "  'helped',\n",
              "  'pioneer',\n",
              "  'the',\n",
              "  'sciencefiction',\n",
              "  'genre',\n",
              "  '.',\n",
              "  'Verne',\n",
              "  'wrote',\n",
              "  'about',\n",
              "  'space',\n",
              "  ',',\n",
              "  'air',\n",
              "  ',',\n",
              "  'and',\n",
              "  'underwater',\n",
              "  'travel',\n",
              "  'before',\n",
              "  'navigable',\n",
              "  'aircraft',\n",
              "  'and',\n",
              "  'practical',\n",
              "  'submarines',\n",
              "  'were',\n",
              "  'invented',\n",
              "  ',',\n",
              "  'and',\n",
              "  'before',\n",
              "  'any',\n",
              "  'means',\n",
              "  'of',\n",
              "  'space',\n",
              "  'travel',\n",
              "  'had',\n",
              "  'been',\n",
              "  'devised',\n",
              "  '.']]"
            ]
          },
          "metadata": {
            "tags": []
          },
          "execution_count": 9
        }
      ]
    },
    {
      "cell_type": "markdown",
      "metadata": {
        "colab_type": "text",
        "id": "GU-UNS8AdJbh"
      },
      "source": [
        "#### Now let's see the lemmas"
      ]
    },
    {
      "cell_type": "code",
      "metadata": {
        "colab_type": "code",
        "id": "fHgN1eOkdJbi",
        "colab": {
          "base_uri": "https://localhost:8080/",
          "height": 680
        },
        "outputId": "9f4c6513-abc8-4ea7-a1a1-3521b9f68081"
      },
      "source": [
        "[content['lemmas'] for content in result]"
      ],
      "execution_count": null,
      "outputs": [
        {
          "output_type": "execute_result",
          "data": {
            "text/plain": [
              "[['French',\n",
              "  'author',\n",
              "  'who',\n",
              "  'help',\n",
              "  'pioneer',\n",
              "  'the',\n",
              "  'sciencefiction',\n",
              "  'genre',\n",
              "  '.',\n",
              "  'Verne',\n",
              "  'write',\n",
              "  'about',\n",
              "  'space',\n",
              "  ',',\n",
              "  'air',\n",
              "  ',',\n",
              "  'and',\n",
              "  'underwater',\n",
              "  'travel',\n",
              "  'before',\n",
              "  'navigable',\n",
              "  'aircraft',\n",
              "  'and',\n",
              "  'practical',\n",
              "  'submarine',\n",
              "  'be',\n",
              "  'invent',\n",
              "  ',',\n",
              "  'and',\n",
              "  'before',\n",
              "  'any',\n",
              "  'mean',\n",
              "  'of',\n",
              "  'space',\n",
              "  'travel',\n",
              "  'have',\n",
              "  'be',\n",
              "  'devise',\n",
              "  '.']]"
            ]
          },
          "metadata": {
            "tags": []
          },
          "execution_count": 10
        }
      ]
    },
    {
      "cell_type": "markdown",
      "metadata": {
        "colab_type": "text",
        "id": "5eCXgmSYdJbk"
      },
      "source": [
        "#### Let's check the stems, any difference with the lemmas shown bebore?\n",
        "\n",
        "[content['lemmas'] for content in result]"
      ]
    },
    {
      "cell_type": "code",
      "metadata": {
        "colab_type": "code",
        "id": "B-rn3_sodJbl",
        "colab": {
          "base_uri": "https://localhost:8080/",
          "height": 680
        },
        "outputId": "1409efb5-5bba-447a-97e9-700b61895ea0"
      },
      "source": [
        "[content['stems'] for content in result]"
      ],
      "execution_count": null,
      "outputs": [
        {
          "output_type": "execute_result",
          "data": {
            "text/plain": [
              "[['french',\n",
              "  'author',\n",
              "  'who',\n",
              "  'help',\n",
              "  'pioneer',\n",
              "  'the',\n",
              "  'sciencefict',\n",
              "  'genr',\n",
              "  '.',\n",
              "  'vern',\n",
              "  'wrote',\n",
              "  'about',\n",
              "  'space',\n",
              "  ',',\n",
              "  'air',\n",
              "  ',',\n",
              "  'and',\n",
              "  'underwat',\n",
              "  'travel',\n",
              "  'befor',\n",
              "  'navig',\n",
              "  'aircraft',\n",
              "  'and',\n",
              "  'practic',\n",
              "  'submarin',\n",
              "  'were',\n",
              "  'invent',\n",
              "  ',',\n",
              "  'and',\n",
              "  'befor',\n",
              "  'ani',\n",
              "  'mean',\n",
              "  'of',\n",
              "  'space',\n",
              "  'travel',\n",
              "  'had',\n",
              "  'been',\n",
              "  'devis',\n",
              "  '.']]"
            ]
          },
          "metadata": {
            "tags": []
          },
          "execution_count": 11
        }
      ]
    },
    {
      "cell_type": "markdown",
      "metadata": {
        "colab_type": "text",
        "id": "818sKySUdJbo"
      },
      "source": [
        "#### Now it's the turn on Part Of Speech(POS)"
      ]
    },
    {
      "cell_type": "code",
      "metadata": {
        "colab_type": "code",
        "id": "Hnd1vUzodJbo",
        "scrolled": true,
        "colab": {
          "base_uri": "https://localhost:8080/",
          "height": 680
        },
        "outputId": "96cc186a-8e5c-4451-dcc2-58bc55c0b107"
      },
      "source": [
        "pos = [content['pos'] for content in result]\n",
        "token = [content['token'] for content in result]\n",
        "# let's put token and tag together\n",
        "list(zip(token[0], pos[0]))"
      ],
      "execution_count": null,
      "outputs": [
        {
          "output_type": "execute_result",
          "data": {
            "text/plain": [
              "[('French', 'JJ'),\n",
              " ('author', 'NN'),\n",
              " ('who', 'WP'),\n",
              " ('helped', 'VBD'),\n",
              " ('pioner', 'NN'),\n",
              " ('the', 'DT'),\n",
              " ('science-fiction', 'NN'),\n",
              " ('genre', 'NN'),\n",
              " ('.', '.'),\n",
              " ('Verne', 'NNP'),\n",
              " ('wrate', 'VBD'),\n",
              " ('about', 'IN'),\n",
              " ('space', 'NN'),\n",
              " (',', ','),\n",
              " ('air', 'NN'),\n",
              " (',', ','),\n",
              " ('and', 'CC'),\n",
              " ('underwater', 'JJ'),\n",
              " ('travel', 'NN'),\n",
              " ('before', 'IN'),\n",
              " ('navigable', 'JJ'),\n",
              " ('aircrast', 'NN'),\n",
              " ('and', 'CC'),\n",
              " ('practical', 'JJ'),\n",
              " ('submarines', 'NNS'),\n",
              " ('were', 'VBD'),\n",
              " ('invented', 'VBN'),\n",
              " (',', ','),\n",
              " ('and', 'CC'),\n",
              " ('before', 'IN'),\n",
              " ('any', 'DT'),\n",
              " ('means', 'NNS'),\n",
              " ('of', 'IN'),\n",
              " ('space', 'NN'),\n",
              " ('travel', 'NN'),\n",
              " ('had', 'VBD'),\n",
              " ('been', 'VBN'),\n",
              " ('devised', 'VBN'),\n",
              " ('.', '.')]"
            ]
          },
          "metadata": {
            "tags": []
          },
          "execution_count": 12
        }
      ]
    },
    {
      "cell_type": "markdown",
      "metadata": {
        "colab_type": "text",
        "id": "bbJZWBVadJbr"
      },
      "source": [
        "# Use pretrained `match_chunk` Pipeline for Individual Noun Phrase "
      ]
    },
    {
      "cell_type": "markdown",
      "metadata": {
        "colab_type": "text",
        "id": "mCYGDKLCdJbs"
      },
      "source": [
        "* DocumentAssembler\n",
        "* SentenceDetector\n",
        "* Tokenizer\n",
        "* Part of speech\n",
        "* chunker\n",
        "\n",
        "Pipeline:\n",
        "* The pipeline uses regex `<DT>?<JJ>*<NN>+`\n",
        "* which states that whenever the chunk finds an optional determiner \n",
        "* (DT) followed by any number of adjectives (JJ) and then a noun (NN) then the Noun Phrase(NP) chunk should be formed."
      ]
    },
    {
      "cell_type": "code",
      "metadata": {
        "colab_type": "code",
        "id": "g0bA6ADsdJbt",
        "colab": {
          "base_uri": "https://localhost:8080/",
          "height": 68
        },
        "outputId": "b356fe38-946c-4657-96ac-83b8b780010d"
      },
      "source": [
        "pipeline = PretrainedPipeline('match_chunks', lang='en')"
      ],
      "execution_count": null,
      "outputs": [
        {
          "output_type": "stream",
          "text": [
            "match_chunks download started this may take some time.\n",
            "Approx size to download 4.3 MB\n",
            "[OK!]\n"
          ],
          "name": "stdout"
        }
      ]
    },
    {
      "cell_type": "code",
      "metadata": {
        "colab_type": "code",
        "id": "nnW9ditjdJbv",
        "colab": {}
      },
      "source": [
        "result = pipeline.annotate(\"The book has many chapters\") # single noun phrase"
      ],
      "execution_count": null,
      "outputs": []
    },
    {
      "cell_type": "code",
      "metadata": {
        "colab_type": "code",
        "id": "8RAa24DXdJbx",
        "colab": {
          "base_uri": "https://localhost:8080/",
          "height": 34
        },
        "outputId": "be95765b-9dce-4eb7-9a78-f0d34474b0b3"
      },
      "source": [
        "result['chunk']"
      ],
      "execution_count": null,
      "outputs": [
        {
          "output_type": "execute_result",
          "data": {
            "text/plain": [
              "['The book']"
            ]
          },
          "metadata": {
            "tags": []
          },
          "execution_count": 15
        }
      ]
    },
    {
      "cell_type": "code",
      "metadata": {
        "colab_type": "code",
        "id": "9zPjsztSdJb0",
        "colab": {}
      },
      "source": [
        "result = pipeline.annotate(\"the little yellow dog barked at the cat\") #multiple noune phrases"
      ],
      "execution_count": null,
      "outputs": []
    },
    {
      "cell_type": "code",
      "metadata": {
        "colab_type": "code",
        "id": "9VkV1fwZdJb2",
        "colab": {
          "base_uri": "https://localhost:8080/",
          "height": 34
        },
        "outputId": "b83e101d-a235-4eb4-8d11-dd8e9ec0125a"
      },
      "source": [
        "result['chunk']"
      ],
      "execution_count": null,
      "outputs": [
        {
          "output_type": "execute_result",
          "data": {
            "text/plain": [
              "['the little yellow dog', 'the cat']"
            ]
          },
          "metadata": {
            "tags": []
          },
          "execution_count": 18
        }
      ]
    },
    {
      "cell_type": "code",
      "metadata": {
        "id": "86FIVk6DD6hv",
        "colab_type": "code",
        "colab": {}
      },
      "source": [
        ""
      ],
      "execution_count": null,
      "outputs": []
    }
  ]
}
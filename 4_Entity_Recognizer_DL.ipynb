{
  "nbformat": 4,
  "nbformat_minor": 0,
  "metadata": {
    "colab": {
      "name": "4- Entity Recognizer DL.ipynb",
      "provenance": [],
      "collapsed_sections": []
    },
    "kernelspec": {
      "display_name": "spark_nlp_2.4.4",
      "language": "python",
      "name": "spark_nlp_2.4.4"
    },
    "language_info": {
      "codemirror_mode": {
        "name": "ipython",
        "version": 3
      },
      "file_extension": ".py",
      "mimetype": "text/x-python",
      "name": "python",
      "nbconvert_exporter": "python",
      "pygments_lexer": "ipython3",
      "version": "3.7.6"
    }
  },
  "cells": [
    {
      "cell_type": "markdown",
      "metadata": {
        "colab_type": "text",
        "id": "1_JaXaC5lNEm"
      },
      "source": [
        "![JohnSnowLabs](https://nlp.johnsnowlabs.com/assets/images/logo.png)"
      ]
    },
    {
      "cell_type": "markdown",
      "metadata": {
        "colab_type": "text",
        "id": "EKDqPbfplNEo"
      },
      "source": [
        "# Entity Recognizer DL by Spark NLP"
      ]
    },
    {
      "cell_type": "code",
      "metadata": {
        "colab_type": "code",
        "id": "_5vw115NlOwA",
        "colab": {}
      },
      "source": [
        "import os\n",
        "\n",
        "# Install java\n",
        "! apt-get install -y openjdk-8-jdk-headless -qq > /dev/null\n",
        "os.environ[\"JAVA_HOME\"] = \"/usr/lib/jvm/java-8-openjdk-amd64\"\n",
        "os.environ[\"PATH\"] = os.environ[\"JAVA_HOME\"] + \"/bin:\" + os.environ[\"PATH\"]\n",
        "! java -version\n",
        "\n",
        "# Install pyspark\n",
        "! pip install --ignore-installed pyspark==2.4.3\n",
        "\n",
        "# Install Spark NLP\n",
        "! pip install --ignore-installed spark-nlp==2.4.0"
      ],
      "execution_count": null,
      "outputs": []
    },
    {
      "cell_type": "markdown",
      "metadata": {
        "colab_type": "text",
        "id": "jW-pxAR7lNEp"
      },
      "source": [
        "## Extract entities with Deep Learning"
      ]
    },
    {
      "cell_type": "code",
      "metadata": {
        "colab_type": "code",
        "id": "VnH1QUv5lNEr",
        "colab": {}
      },
      "source": [
        "import sys\n",
        "import time\n",
        "\n",
        "#Spark NLP\n",
        "import sparknlp\n",
        "from sparknlp.pretrained import PretrainedPipeline\n",
        "from sparknlp.annotator import *\n",
        "from sparknlp.common import RegexRule\n",
        "from sparknlp.base import *"
      ],
      "execution_count": null,
      "outputs": []
    },
    {
      "cell_type": "markdown",
      "metadata": {
        "colab_type": "text",
        "id": "IZW-p7uDlNEw"
      },
      "source": [
        "### Let's create a Spark Session for our app"
      ]
    },
    {
      "cell_type": "code",
      "metadata": {
        "colab_type": "code",
        "id": "WU9FO6ZrlNEx",
        "colab": {
          "base_uri": "https://localhost:8080/",
          "height": 85
        },
        "outputId": "db306de2-2608-4792-f14a-0f060ad4c65a"
      },
      "source": [
        "spark = sparknlp.start()\n",
        "\n",
        "print(\"Spark NLP version: \", sparknlp.version())\n",
        "print(\"Apache Spark version: \", spark.version)"
      ],
      "execution_count": null,
      "outputs": [
        {
          "output_type": "stream",
          "text": [
            "Spark NLP version:  2.4.0\n",
            "Apache Spark version:  2.4.4\n"
          ],
          "name": "stdout"
        }
      ]
    },
    {
      "cell_type": "markdown",
      "metadata": {
        "colab_type": "text",
        "id": "cBukGuiIlNE1"
      },
      "source": [
        "We are going to download `entity_recognizer_dl` pipeline from Spark-NLP S3 repository"
      ]
    },
    {
      "cell_type": "code",
      "metadata": {
        "colab_type": "code",
        "id": "_ONa_9dUlNE2",
        "colab": {
          "base_uri": "https://localhost:8080/",
          "height": 68
        },
        "outputId": "687dbc6f-560b-4f47-d9f9-505673154572"
      },
      "source": [
        "pipeline = PretrainedPipeline('recognize_entities_dl', lang='en')"
      ],
      "execution_count": null,
      "outputs": [
        {
          "output_type": "stream",
          "text": [
            "recognize_entities_dl download started this may take some time.\n",
            "Approx size to download 159 MB\n",
            "[OK!]\n"
          ],
          "name": "stdout"
        }
      ]
    },
    {
      "cell_type": "code",
      "metadata": {
        "colab_type": "code",
        "id": "9I_0L6xOlNE5",
        "colab": {}
      },
      "source": [
        "text = \"The Mona Lisa is a 16th century oil painting created by Leonardo. It's held at the Louvre in Paris.\"\n",
        "result = pipeline.annotate(text)"
      ],
      "execution_count": null,
      "outputs": []
    },
    {
      "cell_type": "code",
      "metadata": {
        "colab_type": "code",
        "id": "oCGl9PLblNE8",
        "colab": {
          "base_uri": "https://localhost:8080/",
          "height": 34
        },
        "outputId": "e8e94ffd-a48e-44ec-d9cd-55c1db81b05b"
      },
      "source": [
        "list(result.keys())"
      ],
      "execution_count": null,
      "outputs": [
        {
          "output_type": "execute_result",
          "data": {
            "text/plain": [
              "['entities', 'document', 'token', 'ner', 'embeddings', 'sentence']"
            ]
          },
          "metadata": {
            "tags": []
          },
          "execution_count": 17
        }
      ]
    },
    {
      "cell_type": "code",
      "metadata": {
        "colab_type": "code",
        "id": "eubWb40XlNE_",
        "scrolled": true,
        "colab": {
          "base_uri": "https://localhost:8080/",
          "height": 51
        },
        "outputId": "55277b91-8fd2-4c2e-da05-d986ba29bf63"
      },
      "source": [
        "result['sentence']"
      ],
      "execution_count": null,
      "outputs": [
        {
          "output_type": "execute_result",
          "data": {
            "text/plain": [
              "['The Mona Lisa is a 16th century oil painting created by Leonardo.',\n",
              " \"It's held at the Louvre in Paris.\"]"
            ]
          },
          "metadata": {
            "tags": []
          },
          "execution_count": 18
        }
      ]
    },
    {
      "cell_type": "code",
      "metadata": {
        "colab_type": "code",
        "id": "akU_Xu9zlNFB",
        "colab": {
          "base_uri": "https://localhost:8080/",
          "height": 374
        },
        "outputId": "69e72ec1-3bb9-4c5d-ad3b-899e97bc8ae6"
      },
      "source": [
        "result['token']"
      ],
      "execution_count": null,
      "outputs": [
        {
          "output_type": "execute_result",
          "data": {
            "text/plain": [
              "['The',\n",
              " 'Mona',\n",
              " 'Lisa',\n",
              " 'is',\n",
              " 'a',\n",
              " '16th',\n",
              " 'century',\n",
              " 'oil',\n",
              " 'painting',\n",
              " 'created',\n",
              " 'by',\n",
              " 'Leonardo',\n",
              " '.',\n",
              " \"It's\",\n",
              " 'held',\n",
              " 'at',\n",
              " 'the',\n",
              " 'Louvre',\n",
              " 'in',\n",
              " 'Paris',\n",
              " '.']"
            ]
          },
          "metadata": {
            "tags": []
          },
          "execution_count": 19
        }
      ]
    },
    {
      "cell_type": "code",
      "metadata": {
        "colab_type": "code",
        "id": "Cxo_9XjblNFE",
        "colab": {
          "base_uri": "https://localhost:8080/",
          "height": 374
        },
        "outputId": "36bafc60-f07e-4e92-ca11-61c7096fabf2"
      },
      "source": [
        "list(zip(result['token'], result['ner']))"
      ],
      "execution_count": null,
      "outputs": [
        {
          "output_type": "execute_result",
          "data": {
            "text/plain": [
              "[('The', 'O'),\n",
              " ('Mona', 'I-PER'),\n",
              " ('Lisa', 'I-PER'),\n",
              " ('is', 'O'),\n",
              " ('a', 'O'),\n",
              " ('16th', 'O'),\n",
              " ('century', 'O'),\n",
              " ('oil', 'O'),\n",
              " ('painting', 'O'),\n",
              " ('created', 'O'),\n",
              " ('by', 'O'),\n",
              " ('Leonardo', 'I-PER'),\n",
              " ('.', 'O'),\n",
              " (\"It's\", 'I-ORG'),\n",
              " ('held', 'O'),\n",
              " ('at', 'O'),\n",
              " ('the', 'O'),\n",
              " ('Louvre', 'I-LOC'),\n",
              " ('in', 'O'),\n",
              " ('Paris', 'I-LOC'),\n",
              " ('.', 'O')]"
            ]
          },
          "metadata": {
            "tags": []
          },
          "execution_count": 20
        }
      ]
    },
    {
      "cell_type": "code",
      "metadata": {
        "colab_type": "code",
        "id": "Kl98sRPilNFH",
        "colab": {
          "base_uri": "https://localhost:8080/",
          "height": 34
        },
        "outputId": "50722ecf-c07e-4cd4-95f1-3256d927d518"
      },
      "source": [
        "result['entities']"
      ],
      "execution_count": null,
      "outputs": [
        {
          "output_type": "execute_result",
          "data": {
            "text/plain": [
              "['Mona Lisa', 'Leonardo', \"It's\", 'Louvre', 'Paris']"
            ]
          },
          "metadata": {
            "tags": []
          },
          "execution_count": 21
        }
      ]
    },
    {
      "cell_type": "markdown",
      "metadata": {
        "colab_type": "text",
        "id": "TeGtWkaFlNFL"
      },
      "source": [
        "Let's have a bigger document"
      ]
    },
    {
      "cell_type": "code",
      "metadata": {
        "colab_type": "code",
        "id": "HS4Wu_yflNFM",
        "colab": {}
      },
      "source": [
        "text = \"\"\"\n",
        "When Sebastian Thrun started working on self-driving cars at Google in 2007, few people outside of the company took him seriously. “I can tell you very senior CEOs of major American car companies would shake my hand and turn away because I wasn’t worth talking to,” said Thrun, now the co-founder and CEO of online higher education startup Udacity, in an interview with Recode earlier this week.\n",
        "A little less than a decade later, dozens of self-driving startups have cropped up while automakers around the world clamor, wallet in hand, to secure their place in the fast-moving world of fully automated transportation.\n",
        "\"\"\"\n",
        "result = pipeline.annotate(text)"
      ],
      "execution_count": null,
      "outputs": []
    },
    {
      "cell_type": "code",
      "metadata": {
        "colab_type": "code",
        "id": "CbD11UNklNFQ",
        "colab": {
          "base_uri": "https://localhost:8080/",
          "height": 153
        },
        "outputId": "8435770e-995e-4db6-aa6b-902f9453ad0b"
      },
      "source": [
        "result['entities']"
      ],
      "execution_count": null,
      "outputs": [
        {
          "output_type": "execute_result",
          "data": {
            "text/plain": [
              "['Sebastian Thrun',\n",
              " 'Google',\n",
              " '“I',\n",
              " 'CEOs',\n",
              " 'American',\n",
              " 'Thrun',\n",
              " 'Udacity',\n",
              " 'Recode']"
            ]
          },
          "metadata": {
            "tags": []
          },
          "execution_count": 24
        }
      ]
    }
  ]
}
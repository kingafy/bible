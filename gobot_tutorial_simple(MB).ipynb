{
  "nbformat": 4,
  "nbformat_minor": 0,
  "metadata": {
    "colab": {
      "name": "gobot_tutorial_simple(MB).ipynb",
      "provenance": []
    },
    "kernelspec": {
      "display_name": "Python 3",
      "name": "python3"
    },
    "accelerator": "GPU",
    "language_info": {
      "codemirror_mode": {
        "name": "ipython",
        "version": 3
      },
      "file_extension": ".py",
      "mimetype": "text/x-python",
      "name": "python",
      "nbconvert_exporter": "python",
      "pygments_lexer": "ipython3",
      "version": "3.7.4"
    }
  },
  "cells": [
    {
      "cell_type": "markdown",
      "metadata": {
        "colab_type": "text",
        "id": "xYxEKPhTgRif"
      },
      "source": [
        "### You can also run the notebook in [COLAB](https://colab.research.google.com/github/deepmipt/DeepPavlov/blob/master/examples/gobot_tutorial.ipynb)."
      ]
    },
    {
      "cell_type": "markdown",
      "metadata": {
        "colab_type": "text",
        "id": "-NIf_5W0gRkj"
      },
      "source": [
        "# Simple bot in DeepPavlov"
      ]
    },
    {
      "cell_type": "markdown",
      "metadata": {
        "colab_type": "text",
        "id": "GjTJTYIqgRk2"
      },
      "source": [
        "This tutorial describes how to build a simple trainable dialogue system with DeepPavlov framework. It shows one of the easiest ways to create a chatbot. All you need is just a dozen of dialogs from your domain with bot responses annotated for dialogue acts. The tutorial covers the following steps:\n",
        "\n",
        "0. [Data preparation](#0.-Data-Preparation)\n",
        "1. [Train bot](#1.-Train-bot)\n",
        "2. [Interact with bot](#2.-Interact-with-bot)\n",
        "\n",
        "\n",
        "An example of the final model served as a telegram bot is:\n",
        "\n",
        "![gobot_simple_example.png](https://github.com/deepmipt/DeepPavlov/blob/master/examples/img/gobot_simple_example.png?raw=1)"
      ]
    },
    {
      "cell_type": "code",
      "metadata": {
        "colab_type": "code",
        "id": "JeSE4a-SgRjo",
        "colab": {}
      },
      "source": [
        "!pip install deeppavlov\n",
        "!python -m deeppavlov install gobot_dstc2_minimal"
      ],
      "execution_count": null,
      "outputs": []
    },
    {
      "cell_type": "markdown",
      "metadata": {
        "colab_type": "text",
        "id": "fbv3rMFngRlH"
      },
      "source": [
        "## 0. Data Preparation"
      ]
    },
    {
      "cell_type": "markdown",
      "metadata": {
        "colab_type": "text",
        "id": "hTpb4EHbgRla"
      },
      "source": [
        "In this tutorial we will build and train a simple chatbot just from 10 dialogues. \n",
        "\n",
        "Reading data:"
      ]
    },
    {
      "cell_type": "code",
      "metadata": {
        "colab_type": "code",
        "id": "B5oak1V5gRlq",
        "colab": {}
      },
      "source": [
        "from deeppavlov.dataset_readers.dstc2_reader import SimpleDSTC2DatasetReader\n",
        "\n",
        "\n",
        "class AssistantDatasetReader(SimpleDSTC2DatasetReader):\n",
        "    \n",
        "    url = \"http://files.deeppavlov.ai/datasets/tutor_assistant_data.tar.gz\"\n",
        "    \n",
        "    @staticmethod\n",
        "    def _data_fname(datatype):\n",
        "        assert datatype in ('val', 'trn', 'tst'), \"wrong datatype name\"\n",
        "        return f\"assistant-{datatype}.json\""
      ],
      "execution_count": null,
      "outputs": []
    },
    {
      "cell_type": "code",
      "metadata": {
        "colab_type": "code",
        "id": "I-GPAAWjgRmj",
        "colab": {}
      },
      "source": [
        "data = AssistantDatasetReader().read('assistant_data')"
      ],
      "execution_count": null,
      "outputs": []
    },
    {
      "cell_type": "markdown",
      "metadata": {
        "colab_type": "text",
        "id": "0dcewhzTgRns"
      },
      "source": [
        "The training/validation/test data is stored in json files (`assistant-trn.json`, `assistant-val.json` and `assistant-tst.json`):"
      ]
    },
    {
      "cell_type": "code",
      "metadata": {
        "colab_type": "code",
        "id": "T_q_AMkCgRnO",
        "colab": {}
      },
      "source": [
        "!ls assistant_data"
      ],
      "execution_count": null,
      "outputs": []
    },
    {
      "cell_type": "markdown",
      "metadata": {
        "colab_type": "text",
        "id": "5elPwVGH8sFb"
      },
      "source": [
        "Let's take a look at the training data."
      ]
    },
    {
      "cell_type": "code",
      "metadata": {
        "colab_type": "code",
        "id": "DOlrNl_9gRn9",
        "colab": {}
      },
      "source": [
        "!head -n 310 assistant_data/assistant-trn.json"
      ],
      "execution_count": null,
      "outputs": []
    },
    {
      "cell_type": "markdown",
      "metadata": {
        "colab_type": "text",
        "id": "HbgaikNS9JY0"
      },
      "source": [
        "Create data iterator to organize data processing."
      ]
    },
    {
      "cell_type": "code",
      "metadata": {
        "colab_type": "code",
        "id": "9NYptoABgRol",
        "scrolled": true,
        "colab": {}
      },
      "source": [
        "from deeppavlov.dataset_iterators.dialog_iterator import DialogDatasetIterator\n",
        "\n",
        "iterator = DialogDatasetIterator(data)"
      ],
      "execution_count": null,
      "outputs": []
    },
    {
      "cell_type": "markdown",
      "metadata": {
        "colab_type": "text",
        "id": "hYh26FBDgRpL"
      },
      "source": [
        "You can now iterate over batches of preprocessed dialogs:"
      ]
    },
    {
      "cell_type": "code",
      "metadata": {
        "colab_type": "code",
        "id": "oMLknr2mgRpk",
        "colab": {}
      },
      "source": [
        "from pprint import pprint\n",
        "\n",
        "for dialog in iterator.gen_batches(batch_size=1, data_type='train'):\n",
        "    turns_x, turns_y = dialog\n",
        "    \n",
        "    print(\"User utterances:\\n----------------\\n\")\n",
        "    pprint(turns_x[0], indent=4)\n",
        "    print(\"\\nSystem responses:\\n-----------------\\n\")\n",
        "    pprint(turns_y[0], indent=4)\n",
        "    \n",
        "    break\n",
        "\n",
        "print(\"\\n-----------------\")    \n",
        "print(f\"{len(iterator.get_instances('train')[0])} dialog(s) in train.\")\n",
        "print(f\"{len(iterator.get_instances('valid')[0])} dialog(s) in valid.\")\n",
        "print(f\"{len(iterator.get_instances('test')[0])} dialog(s) in test.\")"
      ],
      "execution_count": null,
      "outputs": []
    },
    {
      "cell_type": "markdown",
      "metadata": {
        "colab_type": "text",
        "id": "PbSQDMHfgRqo"
      },
      "source": [
        "## 1. Train bot"
      ]
    },
    {
      "cell_type": "markdown",
      "metadata": {
        "colab_type": "text",
        "id": "TgXWO32vgRqy"
      },
      "source": [
        "A policy module of the bot decides what action should be taken in the current dialogue state.The policy in our bot is implemented as a recurrent neural network (recurrency over user utterances) followed by a dense layer with softmax function on top. The network classifies user input into one of predefined system actions. Examples of possible actions are to say hello, to ask what is the weather or to suggest to drink tea. \n",
        "\n",
        "&nbsp;\n",
        "![gobot_simple_policy.png](https://github.com/deepmipt/DeepPavlov/blob/master/examples/img/gobot_simple_policy.png?raw=1)\n",
        "&nbsp;\n",
        "\n",
        "All actions available for the system should be listed in a `assistant-templates.txt` file. Each action should be associated with a string of the corresponding system response.\n",
        "\n",
        "&nbsp;\n",
        "![gobot_simple_templates.png](https://github.com/deepmipt/DeepPavlov/blob/master/examples/img/gobot_simple_templates.png?raw=1)\n",
        "&nbsp;\n",
        "\n",
        "Templates should be in the format `<act>TAB<template>`, where `<act>` is a dialogue action and `<template>` is the corresponding response."
      ]
    },
    {
      "cell_type": "markdown",
      "metadata": {
        "colab_type": "text",
        "id": "c6Ra1TzW-WGU"
      },
      "source": [
        "List of actions for our bot:"
      ]
    },
    {
      "cell_type": "code",
      "metadata": {
        "colab_type": "code",
        "id": "lqg_cbfegRrJ",
        "colab": {}
      },
      "source": [
        "!head -n 10 assistant_data/assistant-templates.txt"
      ],
      "execution_count": null,
      "outputs": []
    },
    {
      "cell_type": "markdown",
      "metadata": {
        "colab_type": "text",
        "id": "0EB74TkogRse"
      },
      "source": [
        "In essense, the dialogue policy module solves classification task, where a set of classes is defined in `assistant-templates.txt`. So, to train the dialogue policy network you need action label for each system's turn in training dialogues. Our assistant dataset provides `\"act\"` dictionary key that contains action associated with current response. Here is an example of training data for the policy network."
      ]
    },
    {
      "cell_type": "code",
      "metadata": {
        "colab_type": "code",
        "id": "o-Ny-LEYgRsq",
        "colab": {}
      },
      "source": [
        "!head -n 31 assistant_data/assistant-trn.json"
      ],
      "execution_count": null,
      "outputs": []
    },
    {
      "cell_type": "markdown",
      "metadata": {
        "colab_type": "text",
        "id": "o5P9piXwgRtl"
      },
      "source": [
        "For our bot we will use ML pipline for task-oriented conversational skill from DeepPavlov. We will train this skill with our dialogue data. \n",
        "\n",
        "Skills in DeepPavlov are defined by configuration files. So, we will use [minimal DSTC2 bot config](https://github.com/deepmipt/DeepPavlov/blob/master/deeppavlov/configs/go_bot/gobot_dstc2_minimal.json) ([more configs](https://github.com/deepmipt/DeepPavlov/blob/master/deeppavlov/configs/go_bot) are available) and change sections responsible for \n",
        "- embeddings,\n",
        "- response templates,\n",
        "- data and model load/save paths.\n",
        "\n",
        "Loading bot:"
      ]
    },
    {
      "cell_type": "code",
      "metadata": {
        "colab_type": "code",
        "id": "X59MSkmBgRt3",
        "colab": {}
      },
      "source": [
        "from deeppavlov import configs\n",
        "from deeppavlov.core.common.file import read_json\n",
        "\n",
        "gobot_config = read_json(configs.go_bot.gobot_dstc2_minimal)"
      ],
      "execution_count": null,
      "outputs": []
    },
    {
      "cell_type": "markdown",
      "metadata": {
        "colab_type": "text",
        "id": "BVFgvwKFBKv0"
      },
      "source": [
        "Download pre-trained GLOVe embeddings:"
      ]
    },
    {
      "cell_type": "code",
      "metadata": {
        "colab_type": "code",
        "id": "XouQ1IBegRvR",
        "colab": {}
      },
      "source": [
        "from deeppavlov.download import download_resource\n",
        "\n",
        "download_resource(url=\"http://files.deeppavlov.ai/embeddings/glove.6B.100d.txt\",\n",
        "                  dest_paths=['assistant_bot/'])"
      ],
      "execution_count": null,
      "outputs": []
    },
    {
      "cell_type": "markdown",
      "metadata": {
        "colab_type": "text",
        "id": "KFhdvuWUBz5T"
      },
      "source": [
        "Configure bot to use downloaded embeddings:"
      ]
    },
    {
      "cell_type": "code",
      "metadata": {
        "colab_type": "code",
        "id": "FElG1xfjgRvq",
        "colab": {}
      },
      "source": [
        "gobot_config['chainer']['pipe'][-1]['embedder'] = {\n",
        "    \"class_name\": \"glove\",\n",
        "    \"load_path\": \"assistant_bot/glove.6B.100d.txt\"\n",
        "}"
      ],
      "execution_count": null,
      "outputs": []
    },
    {
      "cell_type": "markdown",
      "metadata": {
        "colab_type": "text",
        "id": "KU0o9uM5gRui"
      },
      "source": [
        "Configure bot to use templates:"
      ]
    },
    {
      "cell_type": "code",
      "metadata": {
        "colab_type": "code",
        "id": "yAACg0IAgRuq",
        "colab": {}
      },
      "source": [
        "gobot_config['chainer']['pipe'][-1]['nlg_manager']['template_path'] = 'assistant_data/assistant-templates.txt'\n",
        "gobot_config['chainer']['pipe'][-1]['nlg_manager']['api_call_action'] = None"
      ],
      "execution_count": null,
      "outputs": []
    },
    {
      "cell_type": "markdown",
      "metadata": {
        "colab_type": "text",
        "id": "JV27LFatgRwE"
      },
      "source": [
        "Specify train/valid/test data path and path to save the final bot model:"
      ]
    },
    {
      "cell_type": "code",
      "metadata": {
        "colab_type": "code",
        "id": "pqhscSbhgRwK",
        "colab": {}
      },
      "source": [
        "gobot_config['dataset_reader']['class_name'] = '__main__:AssistantDatasetReader'\n",
        "gobot_config['metadata']['variables']['DATA_PATH'] = 'assistant_data'\n",
        "\n",
        "gobot_config['metadata']['variables']['MODEL_PATH'] = 'assistant_bot'"
      ],
      "execution_count": null,
      "outputs": []
    },
    {
      "cell_type": "markdown",
      "metadata": {
        "colab_type": "text",
        "id": "44c_Y8HsgR4l"
      },
      "source": [
        "The whole dialogue system pipeline looks like this:\n",
        "    \n",
        "![gobot_simple_pipeline.png](https://github.com/deepmipt/DeepPavlov/blob/master/examples/img/gobot_simple_pipeline.png?raw=1)"
      ]
    },
    {
      "cell_type": "markdown",
      "metadata": {
        "colab_type": "text",
        "id": "kirToS-DgR4v"
      },
      "source": [
        "Train policy network:"
      ]
    },
    {
      "cell_type": "code",
      "metadata": {
        "colab_type": "code",
        "id": "ZRcmJBcvgR5D",
        "colab": {}
      },
      "source": [
        "from deeppavlov import train_model\n",
        "\n",
        "gobot_config['train']['batch_size'] = 4 # set batch size\n",
        "gobot_config['train']['max_batches'] = 30 # maximum number of training batches\n",
        "gobot_config['train']['val_every_n_batches'] = 30 # evaluate on full 'valid' split every 30 epochs\n",
        "gobot_config['train']['log_every_n_batches'] = 5 # evaluate on full 'train' split every 5 batches\n",
        "\n",
        "train_model(gobot_config);"
      ],
      "execution_count": null,
      "outputs": []
    },
    {
      "cell_type": "markdown",
      "metadata": {
        "colab_type": "text",
        "id": "BMYLonE_gR_Q"
      },
      "source": [
        "Training on the dataset takes up to 5 minutes depending on gpu/cpu. See [config doc page](http://docs.deeppavlov.ai/en/master/intro/configuration.html) for advanced configuration of the training process."
      ]
    },
    {
      "cell_type": "markdown",
      "metadata": {
        "colab_type": "text",
        "id": "8CNlZyfSgSAi"
      },
      "source": [
        "# 2. Interact with bot"
      ]
    },
    {
      "cell_type": "code",
      "metadata": {
        "colab_type": "code",
        "id": "kaUTLCl_gSAm",
        "colab": {}
      },
      "source": [
        "from deeppavlov import build_model\n",
        "\n",
        "bot = build_model(gobot_config)"
      ],
      "execution_count": null,
      "outputs": []
    },
    {
      "cell_type": "code",
      "metadata": {
        "colab_type": "code",
        "id": "1UTvHL01gSA5",
        "colab": {}
      },
      "source": [
        "bot([[{\"text\": \"good evening, bot\"}]])"
      ],
      "execution_count": null,
      "outputs": []
    },
    {
      "cell_type": "code",
      "metadata": {
        "colab_type": "code",
        "id": "YY_BdF-egSBT",
        "colab": {}
      },
      "source": [
        "bot([[{\"text\": \"the weather is clooudy and gloooomy\"}]])"
      ],
      "execution_count": null,
      "outputs": []
    },
    {
      "cell_type": "code",
      "metadata": {
        "colab_type": "code",
        "id": "-Xf1gCdmgSBr",
        "colab": {}
      },
      "source": [
        "bot([[{\"text\": \"nice idea, thanks!\"}]])"
      ],
      "execution_count": null,
      "outputs": []
    },
    {
      "cell_type": "code",
      "metadata": {
        "colab_type": "code",
        "id": "Ad_GDanAgSCi",
        "colab": {}
      },
      "source": [
        "bot.reset()"
      ],
      "execution_count": null,
      "outputs": []
    },
    {
      "cell_type": "code",
      "metadata": {
        "colab_type": "code",
        "id": "r5312Df1gSC0",
        "colab": {}
      },
      "source": [
        "bot([[{\"text\": \"hi bot\"}]])"
      ],
      "execution_count": null,
      "outputs": []
    },
    {
      "cell_type": "code",
      "metadata": {
        "colab_type": "code",
        "id": "jXQw_11jgSDM",
        "colab": {}
      },
      "source": [
        "bot([[{\"text\": \"looks ok, the sun is bright and yesterday's rain stopped already\"}]])"
      ],
      "execution_count": null,
      "outputs": []
    },
    {
      "cell_type": "code",
      "metadata": {
        "colab_type": "code",
        "id": "-SKJicTCgSDe",
        "colab": {}
      },
      "source": [
        "bot([[{\"text\": \"i dont wanna\"}]])"
      ],
      "execution_count": null,
      "outputs": []
    },
    {
      "cell_type": "markdown",
      "metadata": {
        "colab_type": "text",
        "id": "wdg4wl0dgSD9"
      },
      "source": [
        "You can also train a more advanced goal-oriented bot following [gobot_extended_tutorial.ipynb](https://github.com/deepmipt/DeepPavlov/blob/master/examples/gobot_extended_tutorial.ipynb)"
      ]
    },
    {
      "cell_type": "code",
      "metadata": {
        "id": "GF3wQvxbXdN6",
        "colab_type": "code",
        "colab": {}
      },
      "source": [
        ""
      ],
      "execution_count": null,
      "outputs": []
    }
  ]
}